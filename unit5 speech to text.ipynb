{
  "nbformat": 4,
  "nbformat_minor": 0,
  "metadata": {
    "colab": {
      "provenance": []
    },
    "kernelspec": {
      "name": "python3",
      "display_name": "Python 3"
    },
    "language_info": {
      "name": "python"
    }
  },
  "cells": [
    {
      "cell_type": "code",
      "execution_count": null,
      "metadata": {
        "colab": {
          "base_uri": "https://localhost:8080/"
        },
        "id": "7q0tfJK13PHW",
        "outputId": "56798596-25c6-468a-fe02-66df0400344d"
      },
      "outputs": [
        {
          "output_type": "stream",
          "name": "stdout",
          "text": [
            "Requirement already satisfied: torchaudio in /usr/local/lib/python3.11/dist-packages (2.6.0+cu124)\n",
            "Requirement already satisfied: torch==2.6.0 in /usr/local/lib/python3.11/dist-packages (from torchaudio) (2.6.0+cu124)\n",
            "Requirement already satisfied: filelock in /usr/local/lib/python3.11/dist-packages (from torch==2.6.0->torchaudio) (3.18.0)\n",
            "Requirement already satisfied: typing-extensions>=4.10.0 in /usr/local/lib/python3.11/dist-packages (from torch==2.6.0->torchaudio) (4.13.2)\n",
            "Requirement already satisfied: networkx in /usr/local/lib/python3.11/dist-packages (from torch==2.6.0->torchaudio) (3.4.2)\n",
            "Requirement already satisfied: jinja2 in /usr/local/lib/python3.11/dist-packages (from torch==2.6.0->torchaudio) (3.1.6)\n",
            "Requirement already satisfied: fsspec in /usr/local/lib/python3.11/dist-packages (from torch==2.6.0->torchaudio) (2025.3.2)\n",
            "Collecting nvidia-cuda-nvrtc-cu12==12.4.127 (from torch==2.6.0->torchaudio)\n",
            "  Downloading nvidia_cuda_nvrtc_cu12-12.4.127-py3-none-manylinux2014_x86_64.whl.metadata (1.5 kB)\n",
            "Collecting nvidia-cuda-runtime-cu12==12.4.127 (from torch==2.6.0->torchaudio)\n",
            "  Downloading nvidia_cuda_runtime_cu12-12.4.127-py3-none-manylinux2014_x86_64.whl.metadata (1.5 kB)\n",
            "Collecting nvidia-cuda-cupti-cu12==12.4.127 (from torch==2.6.0->torchaudio)\n",
            "  Downloading nvidia_cuda_cupti_cu12-12.4.127-py3-none-manylinux2014_x86_64.whl.metadata (1.6 kB)\n",
            "Collecting nvidia-cudnn-cu12==9.1.0.70 (from torch==2.6.0->torchaudio)\n",
            "  Downloading nvidia_cudnn_cu12-9.1.0.70-py3-none-manylinux2014_x86_64.whl.metadata (1.6 kB)\n",
            "Collecting nvidia-cublas-cu12==12.4.5.8 (from torch==2.6.0->torchaudio)\n",
            "  Downloading nvidia_cublas_cu12-12.4.5.8-py3-none-manylinux2014_x86_64.whl.metadata (1.5 kB)\n",
            "Collecting nvidia-cufft-cu12==11.2.1.3 (from torch==2.6.0->torchaudio)\n",
            "  Downloading nvidia_cufft_cu12-11.2.1.3-py3-none-manylinux2014_x86_64.whl.metadata (1.5 kB)\n",
            "Collecting nvidia-curand-cu12==10.3.5.147 (from torch==2.6.0->torchaudio)\n",
            "  Downloading nvidia_curand_cu12-10.3.5.147-py3-none-manylinux2014_x86_64.whl.metadata (1.5 kB)\n",
            "Collecting nvidia-cusolver-cu12==11.6.1.9 (from torch==2.6.0->torchaudio)\n",
            "  Downloading nvidia_cusolver_cu12-11.6.1.9-py3-none-manylinux2014_x86_64.whl.metadata (1.6 kB)\n",
            "Collecting nvidia-cusparse-cu12==12.3.1.170 (from torch==2.6.0->torchaudio)\n",
            "  Downloading nvidia_cusparse_cu12-12.3.1.170-py3-none-manylinux2014_x86_64.whl.metadata (1.6 kB)\n",
            "Requirement already satisfied: nvidia-cusparselt-cu12==0.6.2 in /usr/local/lib/python3.11/dist-packages (from torch==2.6.0->torchaudio) (0.6.2)\n",
            "Requirement already satisfied: nvidia-nccl-cu12==2.21.5 in /usr/local/lib/python3.11/dist-packages (from torch==2.6.0->torchaudio) (2.21.5)\n",
            "Requirement already satisfied: nvidia-nvtx-cu12==12.4.127 in /usr/local/lib/python3.11/dist-packages (from torch==2.6.0->torchaudio) (12.4.127)\n",
            "Collecting nvidia-nvjitlink-cu12==12.4.127 (from torch==2.6.0->torchaudio)\n",
            "  Downloading nvidia_nvjitlink_cu12-12.4.127-py3-none-manylinux2014_x86_64.whl.metadata (1.5 kB)\n",
            "Requirement already satisfied: triton==3.2.0 in /usr/local/lib/python3.11/dist-packages (from torch==2.6.0->torchaudio) (3.2.0)\n",
            "Requirement already satisfied: sympy==1.13.1 in /usr/local/lib/python3.11/dist-packages (from torch==2.6.0->torchaudio) (1.13.1)\n",
            "Requirement already satisfied: mpmath<1.4,>=1.1.0 in /usr/local/lib/python3.11/dist-packages (from sympy==1.13.1->torch==2.6.0->torchaudio) (1.3.0)\n",
            "Requirement already satisfied: MarkupSafe>=2.0 in /usr/local/lib/python3.11/dist-packages (from jinja2->torch==2.6.0->torchaudio) (3.0.2)\n",
            "Downloading nvidia_cublas_cu12-12.4.5.8-py3-none-manylinux2014_x86_64.whl (363.4 MB)\n",
            "\u001b[2K   \u001b[90m━━━━━━━━━━━━━━━━━━━━━━━━━━━━━━━━━━━━━━━━\u001b[0m \u001b[32m363.4/363.4 MB\u001b[0m \u001b[31m3.8 MB/s\u001b[0m eta \u001b[36m0:00:00\u001b[0m\n",
            "\u001b[?25hDownloading nvidia_cuda_cupti_cu12-12.4.127-py3-none-manylinux2014_x86_64.whl (13.8 MB)\n",
            "\u001b[2K   \u001b[90m━━━━━━━━━━━━━━━━━━━━━━━━━━━━━━━━━━━━━━━━\u001b[0m \u001b[32m13.8/13.8 MB\u001b[0m \u001b[31m103.5 MB/s\u001b[0m eta \u001b[36m0:00:00\u001b[0m\n",
            "\u001b[?25hDownloading nvidia_cuda_nvrtc_cu12-12.4.127-py3-none-manylinux2014_x86_64.whl (24.6 MB)\n",
            "\u001b[2K   \u001b[90m━━━━━━━━━━━━━━━━━━━━━━━━━━━━━━━━━━━━━━━━\u001b[0m \u001b[32m24.6/24.6 MB\u001b[0m \u001b[31m82.7 MB/s\u001b[0m eta \u001b[36m0:00:00\u001b[0m\n",
            "\u001b[?25hDownloading nvidia_cuda_runtime_cu12-12.4.127-py3-none-manylinux2014_x86_64.whl (883 kB)\n",
            "\u001b[2K   \u001b[90m━━━━━━━━━━━━━━━━━━━━━━━━━━━━━━━━━━━━━━━━\u001b[0m \u001b[32m883.7/883.7 kB\u001b[0m \u001b[31m50.7 MB/s\u001b[0m eta \u001b[36m0:00:00\u001b[0m\n",
            "\u001b[?25hDownloading nvidia_cudnn_cu12-9.1.0.70-py3-none-manylinux2014_x86_64.whl (664.8 MB)\n",
            "\u001b[2K   \u001b[90m━━━━━━━━━━━━━━━━━━━━━━━━━━━━━━━━━━━━━━━━\u001b[0m \u001b[32m664.8/664.8 MB\u001b[0m \u001b[31m2.8 MB/s\u001b[0m eta \u001b[36m0:00:00\u001b[0m\n",
            "\u001b[?25hDownloading nvidia_cufft_cu12-11.2.1.3-py3-none-manylinux2014_x86_64.whl (211.5 MB)\n",
            "\u001b[2K   \u001b[90m━━━━━━━━━━━━━━━━━━━━━━━━━━━━━━━━━━━━━━━━\u001b[0m \u001b[32m211.5/211.5 MB\u001b[0m \u001b[31m5.6 MB/s\u001b[0m eta \u001b[36m0:00:00\u001b[0m\n",
            "\u001b[?25hDownloading nvidia_curand_cu12-10.3.5.147-py3-none-manylinux2014_x86_64.whl (56.3 MB)\n",
            "\u001b[2K   \u001b[90m━━━━━━━━━━━━━━━━━━━━━━━━━━━━━━━━━━━━━━━━\u001b[0m \u001b[32m56.3/56.3 MB\u001b[0m \u001b[31m12.3 MB/s\u001b[0m eta \u001b[36m0:00:00\u001b[0m\n",
            "\u001b[?25hDownloading nvidia_cusolver_cu12-11.6.1.9-py3-none-manylinux2014_x86_64.whl (127.9 MB)\n",
            "\u001b[2K   \u001b[90m━━━━━━━━━━━━━━━━━━━━━━━━━━━━━━━━━━━━━━━━\u001b[0m \u001b[32m127.9/127.9 MB\u001b[0m \u001b[31m7.2 MB/s\u001b[0m eta \u001b[36m0:00:00\u001b[0m\n",
            "\u001b[?25hDownloading nvidia_cusparse_cu12-12.3.1.170-py3-none-manylinux2014_x86_64.whl (207.5 MB)\n",
            "\u001b[2K   \u001b[90m━━━━━━━━━━━━━━━━━━━━━━━━━━━━━━━━━━━━━━━━\u001b[0m \u001b[32m207.5/207.5 MB\u001b[0m \u001b[31m5.3 MB/s\u001b[0m eta \u001b[36m0:00:00\u001b[0m\n",
            "\u001b[?25hDownloading nvidia_nvjitlink_cu12-12.4.127-py3-none-manylinux2014_x86_64.whl (21.1 MB)\n",
            "\u001b[2K   \u001b[90m━━━━━━━━━━━━━━━━━━━━━━━━━━━━━━━━━━━━━━━━\u001b[0m \u001b[32m21.1/21.1 MB\u001b[0m \u001b[31m68.1 MB/s\u001b[0m eta \u001b[36m0:00:00\u001b[0m\n",
            "\u001b[?25hInstalling collected packages: nvidia-nvjitlink-cu12, nvidia-curand-cu12, nvidia-cufft-cu12, nvidia-cuda-runtime-cu12, nvidia-cuda-nvrtc-cu12, nvidia-cuda-cupti-cu12, nvidia-cublas-cu12, nvidia-cusparse-cu12, nvidia-cudnn-cu12, nvidia-cusolver-cu12\n",
            "  Attempting uninstall: nvidia-nvjitlink-cu12\n",
            "    Found existing installation: nvidia-nvjitlink-cu12 12.5.82\n",
            "    Uninstalling nvidia-nvjitlink-cu12-12.5.82:\n",
            "      Successfully uninstalled nvidia-nvjitlink-cu12-12.5.82\n",
            "  Attempting uninstall: nvidia-curand-cu12\n",
            "    Found existing installation: nvidia-curand-cu12 10.3.6.82\n",
            "    Uninstalling nvidia-curand-cu12-10.3.6.82:\n",
            "      Successfully uninstalled nvidia-curand-cu12-10.3.6.82\n",
            "  Attempting uninstall: nvidia-cufft-cu12\n",
            "    Found existing installation: nvidia-cufft-cu12 11.2.3.61\n",
            "    Uninstalling nvidia-cufft-cu12-11.2.3.61:\n",
            "      Successfully uninstalled nvidia-cufft-cu12-11.2.3.61\n",
            "  Attempting uninstall: nvidia-cuda-runtime-cu12\n",
            "    Found existing installation: nvidia-cuda-runtime-cu12 12.5.82\n",
            "    Uninstalling nvidia-cuda-runtime-cu12-12.5.82:\n",
            "      Successfully uninstalled nvidia-cuda-runtime-cu12-12.5.82\n",
            "  Attempting uninstall: nvidia-cuda-nvrtc-cu12\n",
            "    Found existing installation: nvidia-cuda-nvrtc-cu12 12.5.82\n",
            "    Uninstalling nvidia-cuda-nvrtc-cu12-12.5.82:\n",
            "      Successfully uninstalled nvidia-cuda-nvrtc-cu12-12.5.82\n",
            "  Attempting uninstall: nvidia-cuda-cupti-cu12\n",
            "    Found existing installation: nvidia-cuda-cupti-cu12 12.5.82\n",
            "    Uninstalling nvidia-cuda-cupti-cu12-12.5.82:\n",
            "      Successfully uninstalled nvidia-cuda-cupti-cu12-12.5.82\n",
            "  Attempting uninstall: nvidia-cublas-cu12\n",
            "    Found existing installation: nvidia-cublas-cu12 12.5.3.2\n",
            "    Uninstalling nvidia-cublas-cu12-12.5.3.2:\n",
            "      Successfully uninstalled nvidia-cublas-cu12-12.5.3.2\n",
            "  Attempting uninstall: nvidia-cusparse-cu12\n",
            "    Found existing installation: nvidia-cusparse-cu12 12.5.1.3\n",
            "    Uninstalling nvidia-cusparse-cu12-12.5.1.3:\n",
            "      Successfully uninstalled nvidia-cusparse-cu12-12.5.1.3\n",
            "  Attempting uninstall: nvidia-cudnn-cu12\n",
            "    Found existing installation: nvidia-cudnn-cu12 9.3.0.75\n",
            "    Uninstalling nvidia-cudnn-cu12-9.3.0.75:\n",
            "      Successfully uninstalled nvidia-cudnn-cu12-9.3.0.75\n",
            "  Attempting uninstall: nvidia-cusolver-cu12\n",
            "    Found existing installation: nvidia-cusolver-cu12 11.6.3.83\n",
            "    Uninstalling nvidia-cusolver-cu12-11.6.3.83:\n",
            "      Successfully uninstalled nvidia-cusolver-cu12-11.6.3.83\n",
            "Successfully installed nvidia-cublas-cu12-12.4.5.8 nvidia-cuda-cupti-cu12-12.4.127 nvidia-cuda-nvrtc-cu12-12.4.127 nvidia-cuda-runtime-cu12-12.4.127 nvidia-cudnn-cu12-9.1.0.70 nvidia-cufft-cu12-11.2.1.3 nvidia-curand-cu12-10.3.5.147 nvidia-cusolver-cu12-11.6.1.9 nvidia-cusparse-cu12-12.3.1.170 nvidia-nvjitlink-cu12-12.4.127\n",
            "Collecting jiwer\n",
            "  Downloading jiwer-3.1.0-py3-none-any.whl.metadata (2.6 kB)\n",
            "Requirement already satisfied: click>=8.1.8 in /usr/local/lib/python3.11/dist-packages (from jiwer) (8.1.8)\n",
            "Collecting rapidfuzz>=3.9.7 (from jiwer)\n",
            "  Downloading rapidfuzz-3.13.0-cp311-cp311-manylinux_2_17_x86_64.manylinux2014_x86_64.whl.metadata (12 kB)\n",
            "Downloading jiwer-3.1.0-py3-none-any.whl (22 kB)\n",
            "Downloading rapidfuzz-3.13.0-cp311-cp311-manylinux_2_17_x86_64.manylinux2014_x86_64.whl (3.1 MB)\n",
            "\u001b[2K   \u001b[90m━━━━━━━━━━━━━━━━━━━━━━━━━━━━━━━━━━━━━━━━\u001b[0m \u001b[32m3.1/3.1 MB\u001b[0m \u001b[31m58.1 MB/s\u001b[0m eta \u001b[36m0:00:00\u001b[0m\n",
            "\u001b[?25hInstalling collected packages: rapidfuzz, jiwer\n",
            "Successfully installed jiwer-3.1.0 rapidfuzz-3.13.0\n",
            "Requirement already satisfied: librosa in /usr/local/lib/python3.11/dist-packages (0.11.0)\n",
            "Requirement already satisfied: audioread>=2.1.9 in /usr/local/lib/python3.11/dist-packages (from librosa) (3.0.1)\n",
            "Requirement already satisfied: numba>=0.51.0 in /usr/local/lib/python3.11/dist-packages (from librosa) (0.60.0)\n",
            "Requirement already satisfied: numpy>=1.22.3 in /usr/local/lib/python3.11/dist-packages (from librosa) (2.0.2)\n",
            "Requirement already satisfied: scipy>=1.6.0 in /usr/local/lib/python3.11/dist-packages (from librosa) (1.15.2)\n",
            "Requirement already satisfied: scikit-learn>=1.1.0 in /usr/local/lib/python3.11/dist-packages (from librosa) (1.6.1)\n",
            "Requirement already satisfied: joblib>=1.0 in /usr/local/lib/python3.11/dist-packages (from librosa) (1.4.2)\n",
            "Requirement already satisfied: decorator>=4.3.0 in /usr/local/lib/python3.11/dist-packages (from librosa) (4.4.2)\n",
            "Requirement already satisfied: soundfile>=0.12.1 in /usr/local/lib/python3.11/dist-packages (from librosa) (0.13.1)\n",
            "Requirement already satisfied: pooch>=1.1 in /usr/local/lib/python3.11/dist-packages (from librosa) (1.8.2)\n",
            "Requirement already satisfied: soxr>=0.3.2 in /usr/local/lib/python3.11/dist-packages (from librosa) (0.5.0.post1)\n",
            "Requirement already satisfied: typing_extensions>=4.1.1 in /usr/local/lib/python3.11/dist-packages (from librosa) (4.13.2)\n",
            "Requirement already satisfied: lazy_loader>=0.1 in /usr/local/lib/python3.11/dist-packages (from librosa) (0.4)\n",
            "Requirement already satisfied: msgpack>=1.0 in /usr/local/lib/python3.11/dist-packages (from librosa) (1.1.0)\n",
            "Requirement already satisfied: packaging in /usr/local/lib/python3.11/dist-packages (from lazy_loader>=0.1->librosa) (24.2)\n",
            "Requirement already satisfied: llvmlite<0.44,>=0.43.0dev0 in /usr/local/lib/python3.11/dist-packages (from numba>=0.51.0->librosa) (0.43.0)\n",
            "Requirement already satisfied: platformdirs>=2.5.0 in /usr/local/lib/python3.11/dist-packages (from pooch>=1.1->librosa) (4.3.7)\n",
            "Requirement already satisfied: requests>=2.19.0 in /usr/local/lib/python3.11/dist-packages (from pooch>=1.1->librosa) (2.32.3)\n",
            "Requirement already satisfied: threadpoolctl>=3.1.0 in /usr/local/lib/python3.11/dist-packages (from scikit-learn>=1.1.0->librosa) (3.6.0)\n",
            "Requirement already satisfied: cffi>=1.0 in /usr/local/lib/python3.11/dist-packages (from soundfile>=0.12.1->librosa) (1.17.1)\n",
            "Requirement already satisfied: pycparser in /usr/local/lib/python3.11/dist-packages (from cffi>=1.0->soundfile>=0.12.1->librosa) (2.22)\n",
            "Requirement already satisfied: charset-normalizer<4,>=2 in /usr/local/lib/python3.11/dist-packages (from requests>=2.19.0->pooch>=1.1->librosa) (3.4.1)\n",
            "Requirement already satisfied: idna<4,>=2.5 in /usr/local/lib/python3.11/dist-packages (from requests>=2.19.0->pooch>=1.1->librosa) (3.10)\n",
            "Requirement already satisfied: urllib3<3,>=1.21.1 in /usr/local/lib/python3.11/dist-packages (from requests>=2.19.0->pooch>=1.1->librosa) (2.4.0)\n",
            "Requirement already satisfied: certifi>=2017.4.17 in /usr/local/lib/python3.11/dist-packages (from requests>=2.19.0->pooch>=1.1->librosa) (2025.4.26)\n"
          ]
        }
      ],
      "source": [
        "# Install required libraries\n",
        "!pip install torchaudio\n",
        "!pip install jiwer\n",
        "!pip install librosa\n"
      ]
    },
    {
      "cell_type": "code",
      "source": [
        "import os\n",
        "import tarfile\n",
        "import urllib.request\n",
        "\n",
        "# Download the dataset\n",
        "url = \"https://www.openslr.org/resources/12/dev-clean.tar.gz\"\n",
        "dataset_path = \"/content/dev-clean.tar.gz\"\n",
        "extract_path = \"/content/LibriSpeech/dev-clean\"\n",
        "\n",
        "if not os.path.exists(dataset_path):\n",
        "    urllib.request.urlretrieve(url, dataset_path)\n",
        "\n",
        "# Extract dataset\n",
        "with tarfile.open(dataset_path) as tar:\n",
        "    tar.extractall(path=\"/content/\")\n",
        "\n",
        "print(\"Dataset extracted.\")\n"
      ],
      "metadata": {
        "colab": {
          "base_uri": "https://localhost:8080/"
        },
        "id": "I3f2YvAK5sAf",
        "outputId": "30300d5e-2ead-43aa-d91a-a5fe0899e043"
      },
      "execution_count": null,
      "outputs": [
        {
          "output_type": "stream",
          "name": "stdout",
          "text": [
            "Dataset extracted.\n"
          ]
        }
      ]
    },
    {
      "cell_type": "code",
      "source": [
        "import torchaudio\n",
        "import librosa\n",
        "import matplotlib.pyplot as plt\n",
        "\n",
        "# Example: Load 1 sample\n",
        "sample_wav = '/content/LibriSpeech/dev-clean/84/121123/84-121123-0000.flac'\n",
        "waveform, sr = torchaudio.load(sample_wav)\n",
        "\n",
        "# Normalize audio\n",
        "waveform = waveform / waveform.abs().max()\n",
        "\n",
        "# Display waveform\n",
        "plt.figure(figsize=(10, 3))\n",
        "plt.plot(waveform[0].numpy())\n",
        "plt.title(\"Waveform\")\n",
        "plt.show()\n"
      ],
      "metadata": {
        "colab": {
          "base_uri": "https://localhost:8080/",
          "height": 236
        },
        "id": "nPQOtyyX5zUK",
        "outputId": "eab0f065-5aec-485a-d44b-a5b8f26d529f"
      },
      "execution_count": null,
      "outputs": [
        {
          "output_type": "display_data",
          "data": {
            "text/plain": [
              "<Figure size 1000x300 with 1 Axes>"
            ],
            "image/png": "[encoded data removed]"
          },
          "metadata": {}
        }
      ]
    },
    {
      "cell_type": "code",
      "source": [
        "import torch\n",
        "import torch.nn as nn\n",
        "\n",
        "# Feature extractor\n",
        "transform = torchaudio.transforms.MelSpectrogram(sample_rate=sr, n_mels=128)\n",
        "\n",
        "class SpeechRecognitionModel(nn.Module):\n",
        "    def __init__(self, input_dim=128, hidden_dim=256, output_dim=29):  # 29 for English alphabet + blank\n",
        "        super().__init__()\n",
        "        self.cnn = nn.Sequential(\n",
        "            nn.Conv2d(1, 32, kernel_size=(3,3), stride=(2,2)),\n",
        "            nn.ReLU(),\n",
        "            nn.Conv2d(32, 64, kernel_size=(3,3), stride=(2,2)),\n",
        "            nn.ReLU()\n",
        "        )\n",
        "        self.rnn = nn.LSTM(input_size=64, hidden_size=hidden_dim, num_layers=2, batch_first=True, bidirectional=True)\n",
        "        self.fc = nn.Linear(hidden_dim*2, output_dim)\n",
        "\n",
        "    def forward(self, x):\n",
        "        x = self.cnn(x.unsqueeze(1))  # Add channel dim\n",
        "        x = x.permute(0, 3, 1, 2)  # Batch, Time, Channel, Mel\n",
        "        b, t, c, m = x.shape\n",
        "        x = x.reshape(b, t, -1)\n",
        "        x, _ = self.rnn(x)\n",
        "        return self.fc(x)\n",
        "\n",
        "model = SpeechRecognitionModel()\n"
      ],
      "metadata": {
        "colab": {
          "base_uri": "https://localhost:8080/"
        },
        "id": "TeOixZov55vy",
        "outputId": "03d33aa9-f2ce-4e6e-bf03-ab7511a3ef09"
      },
      "execution_count": null,
      "outputs": [
        {
          "output_type": "stream",
          "name": "stderr",
          "text": [
            "/usr/local/lib/python3.11/dist-packages/torchaudio/functional/functional.py:584: UserWarning: At least one mel filterbank has all zero values. The value for `n_mels` (128) may be set too high. Or, the value for `n_freqs` (201) may be set too low.\n",
            "  warnings.warn(\n"
          ]
        }
      ]
    },
    {
      "cell_type": "code",
      "source": [
        "import librosa\n",
        "import librosa.display\n",
        "import matplotlib.pyplot as plt\n",
        "import numpy as np\n",
        "\n",
        "# Load audio\n",
        "file_path = '/content/LibriSpeech/dev-clean/84/121123/84-121123-0000.flac'\n",
        "y, sr = librosa.load(file_path, sr=None)\n",
        "\n",
        "# Compute Mel spectrogram\n",
        "S = librosa.feature.melspectrogram(y=y, sr=sr, n_mels=128, fmax=8000)\n",
        "\n",
        "# Convert to log scale (dB)\n",
        "S_dB = librosa.power_to_db(S, ref=np.max)\n",
        "\n",
        "# Normalize across time axis (relative spectrogram)\n",
        "S_norm = (S_dB - np.mean(S_dB, axis=1, keepdims=True)) / (np.std(S_dB, axis=1, keepdims=True) + 1e-6)\n",
        "\n",
        "# Plot\n",
        "plt.figure(figsize=(12, 4))\n",
        "librosa.display.specshow(S_norm, sr=sr, x_axis='time', y_axis='mel', fmax=8000, cmap='magma')\n",
        "plt.colorbar(format='%+2.0f dB')\n",
        "plt.title('Relative Log-Mel Spectrogram')\n",
        "plt.tight_layout()\n",
        "plt.show()\n"
      ],
      "metadata": {
        "colab": {
          "base_uri": "https://localhost:8080/",
          "height": 242
        },
        "id": "oSFk6lVM6JgV",
        "outputId": "8849445a-3ab0-4f4a-a956-c7c30af26496"
      },
      "execution_count": null,
      "outputs": [
        {
          "output_type": "display_data",
          "data": {
            "text/plain": [
              "<Figure size 1200x400 with 2 Axes>"
            ],
            "image/png": "[encoded data removed]"
          },
          "metadata": {}
        }
      ]
    },
    {
      "cell_type": "code",
      "source": [
        "import glob\n",
        "\n",
        "# Find all transcript files under dev-clean\n",
        "transcript_files = glob.glob('/content/LibriSpeech/dev-clean/*/*/*.trans.txt')\n",
        "\n",
        "# Combine into one file\n",
        "combined_transcript_path = '/content/dev-clean-all.trans.txt'\n",
        "\n",
        "with open(combined_transcript_path, 'w') as outfile:\n",
        "    for tf in transcript_files:\n",
        "        with open(tf, 'r') as infile:\n",
        "            outfile.write(infile.read())\n",
        "\n",
        "print(f\"✅ Combined transcripts saved to {combined_transcript_path}\")\n"
      ],
      "metadata": {
        "colab": {
          "base_uri": "https://localhost:8080/"
        },
        "id": "0qCMN4vv68IN",
        "outputId": "148396e2-6e72-443b-9a7e-f0d06b67005d"
      },
      "execution_count": null,
      "outputs": [
        {
          "output_type": "stream",
          "name": "stdout",
          "text": [
            "✅ Combined transcripts saved to /content/dev-clean-all.trans.txt\n"
          ]
        }
      ]
    },
    {
      "cell_type": "code",
      "source": [
        "file_id = '84-121123-0000'\n",
        "\n",
        "# Point to the combined or custom transcript file\n",
        "transcript_file = '/content/dev-clean-all.trans.txt'\n",
        "\n",
        "# Read transcript\n",
        "transcription = None\n",
        "\n",
        "if os.path.exists(transcript_file):\n",
        "    with open(transcript_file, 'r') as f:\n",
        "        lines = f.readlines()\n",
        "        for line in lines:\n",
        "            line_parts = line.strip().split(' ', 1)\n",
        "            if len(line_parts) == 2:\n",
        "                line_file_id, line_text = line_parts\n",
        "                if line_file_id == file_id:\n",
        "                    transcription = line_text\n",
        "                    break\n",
        "\n",
        "if transcription:\n",
        "    print(f\"✅ Transcript for {file_id}:\\n{transcription}\")\n",
        "else:\n",
        "    print(f\"❌ Transcript not found for {file_id}\")\n"
      ],
      "metadata": {
        "colab": {
          "base_uri": "https://localhost:8080/"
        },
        "id": "tjzl6RzC7j25",
        "outputId": "ad55cc26-45e1-49cc-9ede-25c5e49e32f1"
      },
      "execution_count": null,
      "outputs": [
        {
          "output_type": "stream",
          "name": "stdout",
          "text": [
            "✅ Transcript for 84-121123-0000:\n",
            "GO DO YOU HEAR\n"
          ]
        }
      ]
    },
    {
      "cell_type": "code",
      "source": [
        "!pip install textblob\n",
        "!pip install rake-nltk\n"
      ],
      "metadata": {
        "colab": {
          "base_uri": "https://localhost:8080/"
        },
        "id": "gZSWLvZq7zHZ",
        "outputId": "f0b093f4-f95e-4bea-edda-c27d3640dc28"
      },
      "execution_count": null,
      "outputs": [
        {
          "output_type": "stream",
          "name": "stdout",
          "text": [
            "Requirement already satisfied: textblob in /usr/local/lib/python3.11/dist-packages (0.19.0)\n",
            "Requirement already satisfied: nltk>=3.9 in /usr/local/lib/python3.11/dist-packages (from textblob) (3.9.1)\n",
            "Requirement already satisfied: click in /usr/local/lib/python3.11/dist-packages (from nltk>=3.9->textblob) (8.1.8)\n",
            "Requirement already satisfied: joblib in /usr/local/lib/python3.11/dist-packages (from nltk>=3.9->textblob) (1.4.2)\n",
            "Requirement already satisfied: regex>=2021.8.3 in /usr/local/lib/python3.11/dist-packages (from nltk>=3.9->textblob) (2024.11.6)\n",
            "Requirement already satisfied: tqdm in /usr/local/lib/python3.11/dist-packages (from nltk>=3.9->textblob) (4.67.1)\n",
            "Collecting rake-nltk\n",
            "  Downloading rake_nltk-1.0.6-py3-none-any.whl.metadata (6.4 kB)\n",
            "Requirement already satisfied: nltk<4.0.0,>=3.6.2 in /usr/local/lib/python3.11/dist-packages (from rake-nltk) (3.9.1)\n",
            "Requirement already satisfied: click in /usr/local/lib/python3.11/dist-packages (from nltk<4.0.0,>=3.6.2->rake-nltk) (8.1.8)\n",
            "Requirement already satisfied: joblib in /usr/local/lib/python3.11/dist-packages (from nltk<4.0.0,>=3.6.2->rake-nltk) (1.4.2)\n",
            "Requirement already satisfied: regex>=2021.8.3 in /usr/local/lib/python3.11/dist-packages (from nltk<4.0.0,>=3.6.2->rake-nltk) (2024.11.6)\n",
            "Requirement already satisfied: tqdm in /usr/local/lib/python3.11/dist-packages (from nltk<4.0.0,>=3.6.2->rake-nltk) (4.67.1)\n",
            "Downloading rake_nltk-1.0.6-py3-none-any.whl (9.1 kB)\n",
            "Installing collected packages: rake-nltk\n",
            "Successfully installed rake-nltk-1.0.6\n"
          ]
        }
      ]
    },
    {
      "cell_type": "code",
      "source": [
        "\n",
        "from textblob import TextBlob\n",
        "\n",
        "# Example: the transcript we loaded earlier\n",
        "transcription = \"I THINK YOU'RE GOING TO FIND IT'S A VERY INTERESTING STORY.\"\n",
        "\n",
        "# Run sentiment analysis\n",
        "blob = TextBlob(transcription)\n",
        "sentiment = blob.sentiment\n",
        "\n",
        "print(\"✅ Sentiment Analysis:\")\n",
        "print(f\"Polarity: {sentiment.polarity} (range -1 negative → +1 positive)\")\n",
        "print(f\"Subjectivity: {sentiment.subjectivity} (range 0 objective → 1 subjective)\")\n"
      ],
      "metadata": {
        "colab": {
          "base_uri": "https://localhost:8080/"
        },
        "id": "DdZVtpW68Cw-",
        "outputId": "b22f1f1c-f961-43e0-9601-da2fc0415742"
      },
      "execution_count": null,
      "outputs": [
        {
          "output_type": "stream",
          "name": "stdout",
          "text": [
            "✅ Sentiment Analysis:\n",
            "Polarity: 0.65 (range -1 negative → +1 positive)\n",
            "Subjectivity: 0.65 (range 0 objective → 1 subjective)\n"
          ]
        },
        {
          "output_type": "stream",
          "name": "stderr",
          "text": [
            "[nltk_data] Downloading package stopwords to /root/nltk_data...\n",
            "[nltk_data]   Unzipping corpora/stopwords.zip.\n"
          ]
        }
      ]
    },
    {
      "cell_type": "code",
      "source": [
        "import nltk\n",
        "\n",
        "# Download commonly needed datasets\n",
        "nltk.download('punkt')\n",
        "nltk.download('stopwords')\n",
        "nltk.download('averaged_perceptron_tagger')\n"
      ],
      "metadata": {
        "colab": {
          "base_uri": "https://localhost:8080/"
        },
        "id": "r36r2rbI8NVM",
        "outputId": "7e3fb362-ee20-4f45-9dd8-63c2db933606"
      },
      "execution_count": 15,
      "outputs": [
        {
          "output_type": "stream",
          "name": "stderr",
          "text": [
            "[nltk_data] Downloading package punkt to /root/nltk_data...\n",
            "[nltk_data]   Package punkt is already up-to-date!\n",
            "[nltk_data] Downloading package stopwords to /root/nltk_data...\n",
            "[nltk_data]   Package stopwords is already up-to-date!\n",
            "[nltk_data] Downloading package averaged_perceptron_tagger to\n",
            "[nltk_data]     /root/nltk_data...\n",
            "[nltk_data]   Package averaged_perceptron_tagger is already up-to-\n",
            "[nltk_data]       date!\n"
          ]
        },
        {
          "output_type": "execute_result",
          "data": {
            "text/plain": [
              "True"
            ]
          },
          "metadata": {},
          "execution_count": 15
        }
      ]
    },
    {
      "cell_type": "code",
      "source": [
        "import os\n",
        "from rake_nltk import Rake\n",
        "\n",
        "file_id = '84-121123-0000'\n",
        "transcript_file = '/content/dev-clean-all.trans.txt'\n",
        "\n",
        "transcription = None\n",
        "\n",
        "if os.path.exists(transcript_file):\n",
        "    with open(transcript_file, 'r') as f:\n",
        "        lines = f.readlines()\n",
        "        for line in lines:\n",
        "            line_parts = line.strip().split(' ', 1)\n",
        "            if len(line_parts) == 2:\n",
        "                line_file_id, line_text = line_parts\n",
        "                if line_file_id == file_id:\n",
        "                    transcription = line_text\n",
        "                    break\n",
        "\n",
        "if transcription:\n",
        "    print(f\"✅ Transcript for {file_id}:\\n{transcription}\")\n",
        "\n",
        "    try:\n",
        "        # Initialize RAKE\n",
        "        r = Rake()\n",
        "        r.extract_keywords_from_text(transcription)\n",
        "        keywords = r.get_ranked_phrases()\n",
        "\n",
        "        print(\"\\n✅ Top Keywords:\")\n",
        "        for kw in keywords[:5]:\n",
        "            print(\"-\", kw)\n",
        "    except LookupError as e:\n",
        "        print(\"❌ NLTK resource missing:\", e)\n",
        "        print(\"Try running: nltk.download('punkt'), nltk.download('stopwords'), or others.\")\n",
        "else:\n",
        "    print(f\"❌ Transcript not found for {file_id}\")\n"
      ],
      "metadata": {
        "colab": {
          "base_uri": "https://localhost:8080/"
        },
        "id": "NsUh3HrdK3A5",
        "outputId": "90053305-74f2-42f7-e90f-e364a8c16afb"
      },
      "execution_count": 16,
      "outputs": [
        {
          "output_type": "stream",
          "name": "stdout",
          "text": [
            "✅ Transcript for 84-121123-0000:\n",
            "GO DO YOU HEAR\n",
            "❌ NLTK resource missing: \n",
            "**********************************************************************\n",
            "  Resource \u001b[93mpunkt_tab\u001b[0m not found.\n",
            "  Please use the NLTK Downloader to obtain the resource:\n",
            "\n",
            "  \u001b[31m>>> import nltk\n",
            "  >>> nltk.download('punkt_tab')\n",
            "  \u001b[0m\n",
            "  For more information see: https://www.nltk.org/data.html\n",
            "\n",
            "  Attempted to load \u001b[93mtokenizers/punkt_tab/english/\u001b[0m\n",
            "\n",
            "  Searched in:\n",
            "    - '/root/nltk_data'\n",
            "    - '/usr/nltk_data'\n",
            "    - '/usr/share/nltk_data'\n",
            "    - '/usr/lib/nltk_data'\n",
            "    - '/usr/share/nltk_data'\n",
            "    - '/usr/local/share/nltk_data'\n",
            "    - '/usr/lib/nltk_data'\n",
            "    - '/usr/local/lib/nltk_data'\n",
            "**********************************************************************\n",
            "\n",
            "Try running: nltk.download('punkt'), nltk.download('stopwords'), or others.\n"
          ]
        }
      ]
    },
    {
      "cell_type": "code",
      "source": [
        "import nltk\n",
        "nltk.download('stopwords', force=True)\n",
        "nltk.download('punkt', force=True)\n"
      ],
      "metadata": {
        "colab": {
          "base_uri": "https://localhost:8080/"
        },
        "id": "vk9gMLquK89U",
        "outputId": "546a7a71-f2d7-4426-f976-9700c183271b"
      },
      "execution_count": 17,
      "outputs": [
        {
          "output_type": "stream",
          "name": "stderr",
          "text": [
            "[nltk_data] Downloading package stopwords to /root/nltk_data...\n",
            "[nltk_data]   Unzipping corpora/stopwords.zip.\n",
            "[nltk_data] Downloading package punkt to /root/nltk_data...\n",
            "[nltk_data]   Unzipping tokenizers/punkt.zip.\n"
          ]
        },
        {
          "output_type": "execute_result",
          "data": {
            "text/plain": [
              "True"
            ]
          },
          "metadata": {},
          "execution_count": 17
        }
      ]
    },
    {
      "cell_type": "code",
      "source": [
        "pip install --upgrade rake-nltk nltk\n"
      ],
      "metadata": {
        "colab": {
          "base_uri": "https://localhost:8080/"
        },
        "id": "r-ge6KXsK-xx",
        "outputId": "632a3cd7-0f18-4959-f5d6-f20d8a340b67"
      },
      "execution_count": 18,
      "outputs": [
        {
          "output_type": "stream",
          "name": "stdout",
          "text": [
            "Requirement already satisfied: rake-nltk in /usr/local/lib/python3.11/dist-packages (1.0.6)\n",
            "Requirement already satisfied: nltk in /usr/local/lib/python3.11/dist-packages (3.9.1)\n",
            "Requirement already satisfied: click in /usr/local/lib/python3.11/dist-packages (from nltk) (8.1.8)\n",
            "Requirement already satisfied: joblib in /usr/local/lib/python3.11/dist-packages (from nltk) (1.4.2)\n",
            "Requirement already satisfied: regex>=2021.8.3 in /usr/local/lib/python3.11/dist-packages (from nltk) (2024.11.6)\n",
            "Requirement already satisfied: tqdm in /usr/local/lib/python3.11/dist-packages (from nltk) (4.67.1)\n"
          ]
        }
      ]
    },
    {
      "cell_type": "code",
      "source": [
        "pip install yake\n"
      ],
      "metadata": {
        "colab": {
          "base_uri": "https://localhost:8080/"
        },
        "id": "VUEaM8iiLC5l",
        "outputId": "647434f6-9d78-46ad-cbff-2396d92a37c8"
      },
      "execution_count": 19,
      "outputs": [
        {
          "output_type": "stream",
          "name": "stdout",
          "text": [
            "Requirement already satisfied: yake in /usr/local/lib/python3.11/dist-packages (0.4.8)\n",
            "Requirement already satisfied: tabulate in /usr/local/lib/python3.11/dist-packages (from yake) (0.9.0)\n",
            "Requirement already satisfied: click>=6.0 in /usr/local/lib/python3.11/dist-packages (from yake) (8.1.8)\n",
            "Requirement already satisfied: numpy in /usr/local/lib/python3.11/dist-packages (from yake) (2.0.2)\n",
            "Requirement already satisfied: segtok in /usr/local/lib/python3.11/dist-packages (from yake) (1.5.11)\n",
            "Requirement already satisfied: networkx in /usr/local/lib/python3.11/dist-packages (from yake) (3.4.2)\n",
            "Requirement already satisfied: jellyfish in /usr/local/lib/python3.11/dist-packages (from yake) (1.2.0)\n",
            "Requirement already satisfied: regex in /usr/local/lib/python3.11/dist-packages (from segtok->yake) (2024.11.6)\n"
          ]
        }
      ]
    },
    {
      "cell_type": "code",
      "source": [
        "import yake\n",
        "\n",
        "# Initialize YAKE\n",
        "kw_extractor = yake.KeywordExtractor(lan=\"en\", n=1, top=5)\n",
        "keywords = kw_extractor.extract_keywords(transcription)\n",
        "\n",
        "print(\"\\n✅ Top Keywords with YAKE:\")\n",
        "for kw, score in keywords:\n",
        "    print(\"-\", kw, \"(score:\", score, \")\")\n"
      ],
      "metadata": {
        "colab": {
          "base_uri": "https://localhost:8080/"
        },
        "id": "rbIVoFS7LFnw",
        "outputId": "ded63c82-fdfd-4e60-a01a-40639e01500c"
      },
      "execution_count": 20,
      "outputs": [
        {
          "output_type": "stream",
          "name": "stdout",
          "text": [
            "\n",
            "✅ Top Keywords with YAKE:\n",
            "- HEAR (score: 0.08596317751626563 )\n"
          ]
        }
      ]
    },
    {
      "cell_type": "code",
      "source": [
        "pip install textblob yake\n"
      ],
      "metadata": {
        "colab": {
          "base_uri": "https://localhost:8080/"
        },
        "id": "ek617g3NNPv6",
        "outputId": "52b8a301-0993-4d67-8a14-cd3a6c972f38"
      },
      "execution_count": 21,
      "outputs": [
        {
          "output_type": "stream",
          "name": "stdout",
          "text": [
            "Requirement already satisfied: textblob in /usr/local/lib/python3.11/dist-packages (0.19.0)\n",
            "Requirement already satisfied: yake in /usr/local/lib/python3.11/dist-packages (0.4.8)\n",
            "Requirement already satisfied: nltk>=3.9 in /usr/local/lib/python3.11/dist-packages (from textblob) (3.9.1)\n",
            "Requirement already satisfied: tabulate in /usr/local/lib/python3.11/dist-packages (from yake) (0.9.0)\n",
            "Requirement already satisfied: click>=6.0 in /usr/local/lib/python3.11/dist-packages (from yake) (8.1.8)\n",
            "Requirement already satisfied: numpy in /usr/local/lib/python3.11/dist-packages (from yake) (2.0.2)\n",
            "Requirement already satisfied: segtok in /usr/local/lib/python3.11/dist-packages (from yake) (1.5.11)\n",
            "Requirement already satisfied: networkx in /usr/local/lib/python3.11/dist-packages (from yake) (3.4.2)\n",
            "Requirement already satisfied: jellyfish in /usr/local/lib/python3.11/dist-packages (from yake) (1.2.0)\n",
            "Requirement already satisfied: joblib in /usr/local/lib/python3.11/dist-packages (from nltk>=3.9->textblob) (1.4.2)\n",
            "Requirement already satisfied: regex>=2021.8.3 in /usr/local/lib/python3.11/dist-packages (from nltk>=3.9->textblob) (2024.11.6)\n",
            "Requirement already satisfied: tqdm in /usr/local/lib/python3.11/dist-packages (from nltk>=3.9->textblob) (4.67.1)\n"
          ]
        }
      ]
    },
    {
      "cell_type": "code",
      "source": [
        "import os\n",
        "import yake\n",
        "from textblob import TextBlob\n",
        "\n",
        "# ======== Load transcription =========\n",
        "file_id = '84-121123-0000'\n",
        "transcript_file = '/content/dev-clean-all.trans.txt'\n",
        "\n",
        "transcription = None\n",
        "\n",
        "if os.path.exists(transcript_file):\n",
        "    with open(transcript_file, 'r') as f:\n",
        "        lines = f.readlines()\n",
        "        for line in lines:\n",
        "            line_parts = line.strip().split(' ', 1)\n",
        "            if len(line_parts) == 2:\n",
        "                line_file_id, line_text = line_parts\n",
        "                if line_file_id == file_id:\n",
        "                    transcription = line_text\n",
        "                    break\n",
        "\n",
        "if not transcription:\n",
        "    print(f\"❌ Transcript not found for {file_id}\")\n",
        "    exit()\n",
        "\n",
        "print(f\"✅ Transcript for {file_id}:\\n{transcription}\")\n",
        "\n",
        "# ======== Sentiment Analysis =========\n",
        "blob = TextBlob(transcription)\n",
        "sentiment = blob.sentiment\n",
        "\n",
        "print(\"\\n🔍 Sentiment Analysis:\")\n",
        "print(f\"Polarity ([-1,1]): {sentiment.polarity}\")\n",
        "print(f\"Subjectivity ([0,1]): {sentiment.subjectivity}\")\n",
        "\n",
        "# ======== Keyword Extraction (YAKE) =========\n",
        "kw_extractor = yake.KeywordExtractor(lan=\"en\", n=1, top=5)\n",
        "keywords = kw_extractor.extract_keywords(transcription)\n",
        "\n",
        "print(\"\\n🔍 Top Keywords:\")\n",
        "for kw, score in keywords:\n",
        "    print(f\"- {kw} (score: {score:.4f})\")\n",
        "\n",
        "# ======== Agent Performance Metrics =========\n",
        "\n",
        "# Define some basic positive/negative word lists\n",
        "positive_words = [\"thank\", \"please\", \"help\", \"sure\", \"yes\"]\n",
        "negative_words = [\"no\", \"not\", \"can't\", \"won't\", \"sorry\"]\n",
        "\n",
        "words = transcription.lower().split()\n",
        "\n",
        "positive_count = sum(1 for w in words if w in positive_words)\n",
        "negative_count = sum(1 for w in words if w in negative_words)\n",
        "\n",
        "print(\"\\n🔍 Agent Performance Metrics:\")\n",
        "print(f\"Positive words count: {positive_count}\")\n",
        "print(f\"Negative words count: {negative_count}\")\n",
        "\n",
        "# Check for clarity (filler words)\n",
        "filler_words = [\"uh\", \"um\", \"like\", \"you know\"]\n",
        "filler_count = sum(1 for w in words if w in filler_words)\n",
        "print(f\"Filler words count: {filler_count}\")\n",
        "\n",
        "# Overall summary\n",
        "if sentiment.polarity < 0:\n",
        "    overall_sentiment = \"Negative\"\n",
        "elif sentiment.polarity > 0:\n",
        "    overall_sentiment = \"Positive\"\n",
        "else:\n",
        "    overall_sentiment = \"Neutral\"\n",
        "\n",
        "print(f\"\\n✅ Overall Sentiment: {overall_sentiment}\")\n",
        "if negative_count > positive_count:\n",
        "    print(\"⚠️ More negative language detected.\")\n",
        "if filler_count > 0:\n",
        "    print(\"⚠️ Clarity issue: filler words detected.\")\n",
        "\n"
      ],
      "metadata": {
        "colab": {
          "base_uri": "https://localhost:8080/"
        },
        "id": "DO9X2IoYNXYW",
        "outputId": "fa22d5b1-d9cf-485f-9df5-451baf441f57"
      },
      "execution_count": 22,
      "outputs": [
        {
          "output_type": "stream",
          "name": "stdout",
          "text": [
            "✅ Transcript for 84-121123-0000:\n",
            "GO DO YOU HEAR\n",
            "\n",
            "🔍 Sentiment Analysis:\n",
            "Polarity ([-1,1]): 0.0\n",
            "Subjectivity ([0,1]): 0.0\n",
            "\n",
            "🔍 Top Keywords:\n",
            "- HEAR (score: 0.0860)\n",
            "\n",
            "🔍 Agent Performance Metrics:\n",
            "Positive words count: 0\n",
            "Negative words count: 0\n",
            "Filler words count: 0\n",
            "\n",
            "✅ Overall Sentiment: Neutral\n"
          ]
        }
      ]
    },
    {
      "cell_type": "code",
      "source": [
        "import yake\n",
        "from textblob import TextBlob\n",
        "\n",
        "# Initialize YAKE extractor once\n",
        "kw_extractor = yake.KeywordExtractor(lan=\"en\", n=1, top=5)\n",
        "\n",
        "# Positive/negative and filler word lists\n",
        "positive_words = [\"thank\", \"please\", \"help\", \"sure\", \"yes\"]\n",
        "negative_words = [\"no\", \"not\", \"can't\", \"won't\", \"sorry\"]\n",
        "filler_words = [\"uh\", \"um\", \"like\", \"you know\"]\n",
        "\n",
        "print(\"🤖 Hello! I’m your Agent Performance Bot.\")\n",
        "print(\"Type a transcript line (or type 'exit' to quit).\")\n",
        "\n",
        "while True:\n",
        "    user_input = input(\"\\nYou: \")\n",
        "\n",
        "    if user_input.lower() == \"exit\":\n",
        "        print(\"🤖 Goodbye! Have a great day!\")\n",
        "        break\n",
        "\n",
        "    transcription = user_input.strip()\n",
        "    if not transcription:\n",
        "        print(\"🤖 Please enter some text!\")\n",
        "        continue\n",
        "\n",
        "    # Sentiment analysis\n",
        "    blob = TextBlob(transcription)\n",
        "    sentiment = blob.sentiment\n",
        "\n",
        "    # Keyword extraction\n",
        "    keywords = kw_extractor.extract_keywords(transcription)\n",
        "\n",
        "    # Word counts\n",
        "    words = transcription.lower().split()\n",
        "    positive_count = sum(1 for w in words if w in positive_words)\n",
        "    negative_count = sum(1 for w in words if w in negative_words)\n",
        "    filler_count = sum(1 for w in words if w in filler_words)\n",
        "\n",
        "    # Sentiment summary\n",
        "    if sentiment.polarity < 0:\n",
        "        overall_sentiment = \"Negative\"\n",
        "    elif sentiment.polarity > 0:\n",
        "        overall_sentiment = \"Positive\"\n",
        "    else:\n",
        "        overall_sentiment = \"Neutral\"\n",
        "\n",
        "    # Chatbot report back\n",
        "    print(\"\\n🤖 Here’s your analysis:\")\n",
        "    print(f\"• Overall Sentiment: {overall_sentiment} (Polarity: {sentiment.polarity:.2f})\")\n",
        "    print(f\"• Subjectivity Score: {sentiment.subjectivity:.2f}\")\n",
        "    print(f\"• Positive words: {positive_count}\")\n",
        "    print(f\"• Negative words: {negative_count}\")\n",
        "    print(f\"• Filler words: {filler_count}\")\n",
        "\n",
        "    print(\"\\n🔑 Top Keywords:\")\n",
        "    for kw, score in keywords:\n",
        "        print(f\"- {kw} (score: {score:.4f})\")\n",
        "\n",
        "    # Warnings\n",
        "    if negative_count > positive_count:\n",
        "        print(\"⚠️ Watch out! There’s more negative language.\")\n",
        "    if filler_count > 0:\n",
        "        print(\"⚠️ Clarity issue: filler words detected.\")\n",
        "    print(\"✅ Analysis complete. You can enter another line or type 'exit'.\")\n",
        "\n"
      ],
      "metadata": {
        "colab": {
          "base_uri": "https://localhost:8080/"
        },
        "id": "lofUVfMfNz2S",
        "outputId": "c8827c34-511c-4c97-ecd9-60864baf70af"
      },
      "execution_count": 23,
      "outputs": [
        {
          "output_type": "stream",
          "name": "stdout",
          "text": [
            "🤖 Hello! I’m your Agent Performance Bot.\n",
            "Type a transcript line (or type 'exit' to quit).\n",
            "\n",
            "You: hey i love this\n",
            "\n",
            "🤖 Here’s your analysis:\n",
            "• Overall Sentiment: Positive (Polarity: 0.50)\n",
            "• Subjectivity Score: 0.60\n",
            "• Positive words: 0\n",
            "• Negative words: 0\n",
            "• Filler words: 0\n",
            "\n",
            "🔑 Top Keywords:\n",
            "- hey (score: 0.1583)\n",
            "- love (score: 0.2974)\n",
            "✅ Analysis complete. You can enter another line or type 'exit'.\n",
            "\n",
            "You: ohh thats so sad but all the best\n",
            "\n",
            "🤖 Here’s your analysis:\n",
            "• Overall Sentiment: Positive (Polarity: 0.25)\n",
            "• Subjectivity Score: 0.65\n",
            "• Positive words: 0\n",
            "• Negative words: 0\n",
            "• Filler words: 0\n",
            "\n",
            "🔑 Top Keywords:\n",
            "- ohh (score: 0.1583)\n",
            "- sad (score: 0.2974)\n",
            "✅ Analysis complete. You can enter another line or type 'exit'.\n",
            "\n",
            "You: exit\n",
            "🤖 Goodbye! Have a great day!\n"
          ]
        }
      ]
    },
    {
      "cell_type": "code",
      "source": [
        "import os\n",
        "from textblob import TextBlob\n",
        "import yake\n",
        "\n",
        "# ====== CONFIGURATION ======\n",
        "# If you have a file with transcripts, set the path here:\n",
        "transcript_file = '/content/dev-clean-all.trans.txt'\n",
        "file_id = '84-121123-0000'\n",
        "\n",
        "# Initialize keyword extractor\n",
        "kw_extractor = yake.KeywordExtractor(lan=\"en\", n=1, top=5)\n",
        "\n",
        "# Positive and negative word lists\n",
        "positive_words = [\"thank\", \"please\", \"help\", \"sure\", \"yes\", \"great\", \"happy\"]\n",
        "negative_words = [\"no\", \"not\", \"can't\", \"won't\", \"sorry\", \"issue\", \"problem\"]\n",
        "filler_words = [\"uh\", \"um\", \"like\", \"you know\"]\n",
        "\n",
        "# ====== LOAD TRANSCRIPT ======\n",
        "transcription = None\n",
        "if os.path.exists(transcript_file):\n",
        "    with open(transcript_file, 'r') as f:\n",
        "        lines = f.readlines()\n",
        "        for line in lines:\n",
        "            line_parts = line.strip().split(' ', 1)\n",
        "            if len(line_parts) == 2:\n",
        "                line_file_id, line_text = line_parts\n",
        "                if line_file_id == file_id:\n",
        "                    transcription = line_text\n",
        "                    break\n",
        "\n",
        "if not transcription:\n",
        "    print(f\"❌ Transcript not found for {file_id}\")\n",
        "    exit()\n",
        "\n",
        "print(f\"✅ Transcript for {file_id}:\\n{transcription}\")\n",
        "\n",
        "# ====== SENTIMENT ANALYSIS ======\n",
        "blob = TextBlob(transcription)\n",
        "sentiment = blob.sentiment\n",
        "polarity = sentiment.polarity\n",
        "subjectivity = sentiment.subjectivity\n",
        "\n",
        "# ====== KEYWORD EXTRACTION ======\n",
        "keywords = kw_extractor.extract_keywords(transcription)\n",
        "\n",
        "# ====== PERFORMANCE METRICS ======\n",
        "words = transcription.lower().split()\n",
        "positive_count = sum(1 for w in words if w in positive_words)\n",
        "negative_count = sum(1 for w in words if w in negative_words)\n",
        "filler_count = sum(1 for w in words if w in filler_words)\n",
        "\n",
        "# ====== REPORTING ======\n",
        "print(\"\\n📊 === Agent Performance Report ===\")\n",
        "print(f\"• Overall Sentiment: {'Positive' if polarity > 0 else 'Negative' if polarity < 0 else 'Neutral'} (Polarity: {polarity:.2f})\")\n",
        "print(f\"• Subjectivity: {subjectivity:.2f}\")\n",
        "print(f\"• Positive Words Count: {positive_count}\")\n",
        "print(f\"• Negative Words Count: {negative_count}\")\n",
        "print(f\"• Filler Words Count: {filler_count}\")\n",
        "\n",
        "print(\"\\n🔑 Top Keywords:\")\n",
        "for kw, score in keywords:\n",
        "    print(f\"- {kw} (score: {score:.4f})\")\n",
        "\n",
        "# ====== SUGGESTIONS ======\n",
        "if negative_count > positive_count:\n",
        "    print(\"⚠️ Warning: More negative than positive language detected.\")\n",
        "if filler_count > 0:\n",
        "    print(\"⚠️ Warning: Filler words detected; may affect clarity.\")\n",
        "\n",
        "print(\"\\n✅ Automated analysis complete. Ready for reporting or dashboard integration.\")\n"
      ],
      "metadata": {
        "colab": {
          "base_uri": "https://localhost:8080/"
        },
        "id": "S2PFjHXGOsiO",
        "outputId": "47916709-cebe-4fe8-c8e3-a59bfe49138b"
      },
      "execution_count": 24,
      "outputs": [
        {
          "output_type": "stream",
          "name": "stdout",
          "text": [
            "✅ Transcript for 84-121123-0000:\n",
            "GO DO YOU HEAR\n",
            "\n",
            "📊 === Agent Performance Report ===\n",
            "• Overall Sentiment: Neutral (Polarity: 0.00)\n",
            "• Subjectivity: 0.00\n",
            "• Positive Words Count: 0\n",
            "• Negative Words Count: 0\n",
            "• Filler Words Count: 0\n",
            "\n",
            "🔑 Top Keywords:\n",
            "- HEAR (score: 0.0860)\n",
            "\n",
            "✅ Automated analysis complete. Ready for reporting or dashboard integration.\n"
          ]
        }
      ]
    }
  ]
}